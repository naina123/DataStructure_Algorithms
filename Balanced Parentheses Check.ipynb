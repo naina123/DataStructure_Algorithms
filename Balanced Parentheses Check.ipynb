{
 "cells": [
  {
   "cell_type": "code",
   "execution_count": 48,
   "metadata": {},
   "outputs": [
    {
     "name": "stdout",
     "output_type": "stream",
     "text": [
      "YES\n"
     ]
    }
   ],
   "source": [
    "class Stack:\n",
    "    def __init__(self):\n",
    "        self.items = []\n",
    "    def isEmpty(self):\n",
    "        return self.items == []\n",
    "    def push(self,item):\n",
    "        self.items.append(item)\n",
    "    def pop(self):\n",
    "        return self.items.pop()\n",
    "    def peek(self):\n",
    "        return self.items[len(self.items)-1]\n",
    "    def size(self):\n",
    "        return len(self.items)\n",
    "\n",
    "def balance_check(s):\n",
    "    if len(s)%2 != 0:\n",
    "        return print('NO')\n",
    "    opening = set('{[(')\n",
    "    matches = set([('(',')'),('{','}'),('[',']')])\n",
    "    Stack = []\n",
    "    for paren in s:\n",
    "        if paren in opening:\n",
    "            Stack.append(paren)\n",
    "        else:\n",
    "            if len(Stack)== 0:\n",
    "                return print('NO')\n",
    "            \n",
    "            last_open = Stack.pop()\n",
    "            if (last_open,paren) not in matches:\n",
    "                return print('NO')\n",
    "            \n",
    "            \n",
    "    if len(Stack) == 0:\n",
    "        return print('YES')\n",
    "    else:\n",
    "        return print('NO')\n",
    "            \n",
    "    \n",
    "    \n",
    "balance_check('{[()]}')\n",
    "            \n",
    "        \n",
    "\n",
    "            \n",
    "            \n",
    "    \n",
    "    "
   ]
  },
  {
   "cell_type": "code",
   "execution_count": null,
   "metadata": {
    "collapsed": true
   },
   "outputs": [],
   "source": []
  },
  {
   "cell_type": "code",
   "execution_count": null,
   "metadata": {
    "collapsed": true
   },
   "outputs": [],
   "source": []
  }
 ],
 "metadata": {
  "kernelspec": {
   "display_name": "Python 3",
   "language": "python",
   "name": "python3"
  },
  "language_info": {
   "codemirror_mode": {
    "name": "ipython",
    "version": 3
   },
   "file_extension": ".py",
   "mimetype": "text/x-python",
   "name": "python",
   "nbconvert_exporter": "python",
   "pygments_lexer": "ipython3",
   "version": "3.6.2"
  }
 },
 "nbformat": 4,
 "nbformat_minor": 2
}
