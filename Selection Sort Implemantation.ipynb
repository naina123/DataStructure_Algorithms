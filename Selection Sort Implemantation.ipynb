{
 "cells": [
  {
   "cell_type": "code",
   "execution_count": 6,
   "metadata": {},
   "outputs": [
    {
     "data": {
      "text/plain": [
       "[2, 3, 4, 7, 11, 12, 19, 20, 32, 44, 56, 98]"
      ]
     },
     "execution_count": 6,
     "metadata": {},
     "output_type": "execute_result"
    }
   ],
   "source": [
    "def selectionSort(arr):\n",
    "    for fillSlot in range(len(arr)-1,0,-1):\n",
    "        positionOfMax = 0\n",
    "        for location in range(1,fillSlot+1):\n",
    "            if arr[location]>arr[positionOfMax]:\n",
    "                positionOfMax=location\n",
    "        temp = arr[fillSlot]\n",
    "        arr[fillSlot]= arr[positionOfMax]\n",
    "        arr[positionOfMax] = temp\n",
    "arr = [32,4,2,19,12,11,20,44,56,98,7,3]\n",
    "selectionSort(arr)\n",
    "arr"
   ]
  },
  {
   "cell_type": "code",
   "execution_count": null,
   "metadata": {
    "collapsed": true
   },
   "outputs": [],
   "source": []
  },
  {
   "cell_type": "code",
   "execution_count": null,
   "metadata": {
    "collapsed": true
   },
   "outputs": [],
   "source": []
  }
 ],
 "metadata": {
  "kernelspec": {
   "display_name": "Python 3",
   "language": "python",
   "name": "python3"
  },
  "language_info": {
   "codemirror_mode": {
    "name": "ipython",
    "version": 3
   },
   "file_extension": ".py",
   "mimetype": "text/x-python",
   "name": "python",
   "nbconvert_exporter": "python",
   "pygments_lexer": "ipython3",
   "version": "3.6.2"
  }
 },
 "nbformat": 4,
 "nbformat_minor": 2
}
