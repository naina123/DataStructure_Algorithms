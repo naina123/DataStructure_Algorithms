{
 "cells": [
  {
   "cell_type": "code",
   "execution_count": null,
   "metadata": {
    "collapsed": true
   },
   "outputs": [],
   "source": [
    "class Binarytree(object):\n",
    "    def __init__(self,rootobj):\n",
    "        self.rootkey = rootobj\n",
    "        self.leftchild = none\n",
    "        self.rightchild = none\n",
    "    def insertLeft(self,newNode):\n",
    "        if self.leftchild = none:\n",
    "            self.leftchild = Binarytree(newNode)\n",
    "        else:\n",
    "            t = Binarytree(newNode)\n",
    "            t.leftchild = self.leftchild\n",
    "            self.leftchild = t\n",
    "    def insertRight(self,newNode):\n",
    "        if self.rightchild = none:\n",
    "            self.rightchild = Binarytree(newNode)\n",
    "        else:\n",
    "            t = Binarytree(newNode)\n",
    "            t.rightchild = self.rightchild\n",
    "            self.rightchild = t\n",
    "    def getLeftchild(self):\n",
    "        return self.leftchld\n",
    "    def getRightchild(self):\n",
    "        return self.rightchild\n",
    "    def setRootVal(self,obj):\n",
    "        self.key = obj\n",
    "    def getRootVal(self):\n",
    "        return self.key"
   ]
  }
 ],
 "metadata": {
  "kernelspec": {
   "display_name": "Python 3",
   "language": "python",
   "name": "python3"
  },
  "language_info": {
   "codemirror_mode": {
    "name": "ipython",
    "version": 3
   },
   "file_extension": ".py",
   "mimetype": "text/x-python",
   "name": "python",
   "nbconvert_exporter": "python",
   "pygments_lexer": "ipython3",
   "version": "3.6.2"
  }
 },
 "nbformat": 4,
 "nbformat_minor": 2
}
