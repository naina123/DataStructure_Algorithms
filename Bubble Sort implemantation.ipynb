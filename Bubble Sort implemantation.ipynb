{
 "cells": [
  {
   "cell_type": "code",
   "execution_count": 11,
   "metadata": {},
   "outputs": [
    {
     "name": "stdout",
     "output_type": "stream",
     "text": [
      "[2, 3, 3, 4, 5, 7, 9, 11, 13, 19, 21]\n"
     ]
    }
   ],
   "source": [
    "def bubbleSort(alist):\n",
    "    exchange = True\n",
    "    passNum = len(alist)-1\n",
    "    while passNum > 0 and exchange:\n",
    "        exchange = False\n",
    "        for i in range(passNum):\n",
    "            if alist[i] > alist[i+1]:\n",
    "                exchange = True\n",
    "                temp = alist[i]\n",
    "                alist[i]= alist[i+1]\n",
    "                alist[i+1]= temp\n",
    "        passNum = passNum - 1\n",
    "    \n",
    "arr = [3,5,2,7,3,4,9,13,11,21,19]\n",
    "bubbleSort(arr)\n",
    "print(arr)"
   ]
  },
  {
   "cell_type": "code",
   "execution_count": null,
   "metadata": {
    "collapsed": true
   },
   "outputs": [],
   "source": []
  },
  {
   "cell_type": "code",
   "execution_count": null,
   "metadata": {
    "collapsed": true
   },
   "outputs": [],
   "source": []
  }
 ],
 "metadata": {
  "kernelspec": {
   "display_name": "Python 3",
   "language": "python",
   "name": "python3"
  },
  "language_info": {
   "codemirror_mode": {
    "name": "ipython",
    "version": 3
   },
   "file_extension": ".py",
   "mimetype": "text/x-python",
   "name": "python",
   "nbconvert_exporter": "python",
   "pygments_lexer": "ipython3",
   "version": "3.6.2"
  }
 },
 "nbformat": 4,
 "nbformat_minor": 2
}
